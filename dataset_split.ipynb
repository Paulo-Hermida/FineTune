{
 "cells": [
  {
   "cell_type": "code",
   "execution_count": 2,
   "source": [
    "# Divide the dataset in hate and nohate folders\n",
    "\n",
    "import json\n",
    "import shutil\n",
    "path = \"cache/mmf/data/datasets/hateful_memes/defaults/annotations/\"\n",
    "path_img_org = \"cache/mmf/data/datasets/hateful_memes/defaults/images/\"\n",
    "path_hate = \"data/hate\"\n",
    "path_nohate = \"data/nohate\"\n",
    "files = [\"train.jsonl\",\"dev_seen.jsonl\",\"dev_unseen.jsonl\"]\n",
    "for file in files:\n",
    "    f = open(path + file)\n",
    "    for i in f.readlines():\n",
    "          y = json.loads(i)\n",
    "          if y['label']==1:\n",
    "            shutil.copy2(path_img_org+y['img'], path_hate)\n",
    "          else:\n",
    "            shutil.copy2(path_img_org+y['img'], path_nohate)\n",
    "\n",
    "    f.close()"
   ],
   "outputs": [],
   "metadata": {}
  },
  {
   "cell_type": "code",
   "execution_count": 2,
   "source": [
    "# Divide the dataset in hate and nohate folders\n",
    "\n",
    "import json\n",
    "import shutil\n",
    "path = \"cache/mmf/data/datasets/hateful_memes/defaults/annotations/\"\n",
    "path_img_org = \"cache/mmf/data/datasets/hateful_memes/defaults/images/\"\n",
    "path_train = \"data/train\"\n",
    "path_test = \"data/test\"\n",
    "files = [\"train.jsonl\",\"dev_seen.jsonl\",\"dev_unseen.jsonl\"]\n",
    "for file in files:\n",
    "    f = open(path + file)\n",
    "    for i in f.readlines():\n",
    "          y = json.loads(i)\n",
    "          if file == \"train.jsonl\": \n",
    "              if y['label']==1:\n",
    "                shutil.copy2(path_img_org+y['img'], path_train+\"/hate\")\n",
    "              else:\n",
    "                shutil.copy2(path_img_org+y['img'], path_train+\"/nohate\")\n",
    "          else:\n",
    "              if y['label']==1:\n",
    "                shutil.copy2(path_img_org+y['img'], path_test+\"/hate\")\n",
    "              else:\n",
    "                shutil.copy2(path_img_org+y['img'], path_test+\"/nohate\")\n",
    "                \n",
    "    f.close()"
   ],
   "outputs": [],
   "metadata": {}
  }
 ],
 "metadata": {
  "kernelspec": {
   "name": "python3",
   "display_name": "Python 3.8.11 64-bit ('vit': conda)"
  },
  "language_info": {
   "codemirror_mode": {
    "name": "ipython",
    "version": 3
   },
   "file_extension": ".py",
   "mimetype": "text/x-python",
   "name": "python",
   "nbconvert_exporter": "python",
   "pygments_lexer": "ipython3",
   "version": "3.8.11"
  },
  "interpreter": {
   "hash": "88a4c8015d625ea1d1ba908f1c47336c2e643c0867018036b08a38fa0b908d9e"
  }
 },
 "nbformat": 4,
 "nbformat_minor": 4
}